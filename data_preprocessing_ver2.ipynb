{
 "cells": [
  {
   "cell_type": "code",
   "execution_count": 1,
   "metadata": {},
   "outputs": [],
   "source": [
    "import torch\n",
    "import numpy as np\n",
    "import glob\n",
    "import os\n",
    "import matplotlib.pyplot as plt\n",
    "import json"
   ]
  },
  {
   "cell_type": "code",
   "execution_count": 2,
   "metadata": {},
   "outputs": [],
   "source": [
    "def get_idx_from_lat_lon(lat,lon,min_lat,min_lon,row,col):\n",
    "    row_idx = (lon-min_lon)//row\n",
    "    idx = int(row_idx + 24*((lat-min_lat)//col))\n",
    "    if 0<= idx < 24*24:\n",
    "        return idx\n",
    "    else:\n",
    "        return 0 if idx<0 else 24*24-1"
   ]
  },
  {
   "cell_type": "code",
   "execution_count": 3,
   "metadata": {},
   "outputs": [],
   "source": [
    "path = \"./track_data/017/Trajectory/\"\n",
    "cnn_train_data = {\n",
    "    'train':[]\n",
    "}"
   ]
  },
  {
   "cell_type": "code",
   "execution_count": 4,
   "metadata": {},
   "outputs": [],
   "source": [
    "def get_min_and_max_coordinates(d):\n",
    "    location = d.split(',')[:2]\n",
    "    location[0],location[1] = float(location[0]),float(location[1])\n",
    "    if max_lat < location[0]:\n",
    "        max_lat = location[0]\n",
    "    if min_lat > location[0]:\n",
    "        min_lat = location[0]\n",
    "    if max_lon < location[1]:\n",
    "        max_lon = location[1]\n",
    "    if min_lon > location[1]:\n",
    "        min_lon = location[1]\n",
    "    return (min_lat,min_lon), (max_lat,max_lon)\n",
    "\n",
    "#특정 패턴(plt파일)이 고정위치 24*24 그리드에 속하는지 판별하는 함수\n",
    "def data_filter(plt_file):\n",
    "    data_list = np.genfromtxt(plt_file, delimiter=' ',skip_header=6,dtype=str,autostrip=True)\n",
    "    for d in data_list:\n",
    "        left_down, right_up = get_min_and_max_coordinates(d)"
   ]
  },
  {
   "cell_type": "code",
   "execution_count": null,
   "metadata": {},
   "outputs": [],
   "source": [
    "def get_min_and_max_coordinates(d):\n",
    "    location = d.split(',')[:2]\n",
    "    location[0],location[1] = float(location[0]),float(location[1])\n",
    "    if max_lat < location[0]:\n",
    "        max_lat = location[0]\n",
    "    if min_lat > location[0]:\n",
    "        min_lat = location[0]\n",
    "    if max_lon < location[1]:\n",
    "        max_lon = location[1]\n",
    "    if min_lon > location[1]:\n",
    "        min_lon = location[1]\n",
    "    return (min_lat,min_lon), (max_lat,max_lon)"
   ]
  }
 ],
 "metadata": {
  "kernelspec": {
   "display_name": "Python 3",
   "language": "python",
   "name": "python3"
  },
  "language_info": {
   "codemirror_mode": {
    "name": "ipython",
    "version": 3
   },
   "file_extension": ".py",
   "mimetype": "text/x-python",
   "name": "python",
   "nbconvert_exporter": "python",
   "pygments_lexer": "ipython3",
   "version": "3.8.3"
  }
 },
 "nbformat": 4,
 "nbformat_minor": 4
}
